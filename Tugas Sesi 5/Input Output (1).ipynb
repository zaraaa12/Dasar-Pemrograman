{
 "cells": [
  {
   "cell_type": "markdown",
   "id": "61d6d4d5-e64c-4aa9-b2f1-a4941fab0e33",
   "metadata": {},
   "source": [
    "<h1>Biodata</h1>"
   ]
  },
  {
   "cell_type": "code",
   "execution_count": 6,
   "id": "48dc282d-a958-4a70-8039-5561b55a782d",
   "metadata": {},
   "outputs": [
    {
     "name": "stdin",
     "output_type": "stream",
     "text": [
      "Insert your name :  Bilqis Zahra\n",
      "Insert your birthday : 02/12/2005\n",
      "Insert your major : Informatics Engineering\n",
      "Insert your campus : Nusa Putra University Sukabumi\n"
     ]
    },
    {
     "name": "stdout",
     "output_type": "stream",
     "text": [
      "Name : Bilqis Zahra\n",
      "Date : 02\n",
      "Month : 12\n",
      "Year : 2005\n",
      "Major : Informatics Engineering\n",
      "Campus : Nusa Putra University Sukabumi\n",
      "Initial : BZ\n"
     ]
    }
   ],
   "source": [
    "name = input(\"Insert your name : \")\n",
    "birthday = input(\"Insert your birthday :\")\n",
    "major = input(\"Insert your major :\")\n",
    "campus = input(\"Insert your campus :\")\n",
    "\n",
    "birth = birthday.split('/')\n",
    "initial = name.split()\n",
    "\n",
    "print(f\"Name : {name}\")\n",
    "print(f\"Date : {birth[0]}\")\n",
    "print(f\"Month : {birth[1]}\")\n",
    "print(f\"Year : {birth[2]}\")\n",
    "print(f\"Major : {major}\")\n",
    "print(f\"Campus : {campus}\")\n",
    "print(f\"Initial : {initial[0][0]}{initial[1][0]}\")\n"
   ]
  },
  {
   "cell_type": "code",
   "execution_count": 15,
   "id": "a8e17102-f81c-493e-860c-9413218e8363",
   "metadata": {},
   "outputs": [
    {
     "name": "stdout",
     "output_type": "stream",
     "text": [
      "putra nusa\n",
      "NIVERSITAS NSA PTRA S KABMI\n",
      "SUKABUMI PUTRA NUSA UNIVERSITAS\n",
      "UNPS\n",
      "TAS  SA PU BUMI\n"
     ]
    }
   ],
   "source": [
    "kampus = \"Universitas Nusa Putra Sukabumi\"\n",
    "inisial = kampus.split()\n",
    "\n",
    "f = kampus[17:-9]+ \" \" +kampus[12:-15]\n",
    "print(f.lower())\n",
    "g = kampus[1:12]+ kampus[12:13]+kampus[14:18]+kampus[19:24]+ \" \"+kampus[-6:-3]+kampus[-2:]\n",
    "print(g.upper())\n",
    "h = kampus[-8:]+\" \"+kampus[17:-9]+\" \"+kampus[12:-15]+\" \"+kampus[:11]\n",
    "print(h.upper())\n",
    "print(f\"{inisial[0][0]}{inisial[1][0]}{inisial[2][0]}{inisial[3][0]}\")\n",
    "i = kampus[8:12]+\" \"+kampus[14:19]+\" \"+kampus[-4:]\n",
    "print(i.upper())"
   ]
  }
 ],
 "metadata": {
  "kernelspec": {
   "display_name": "Python 3 (ipykernel)",
   "language": "python",
   "name": "python3"
  },
  "language_info": {
   "codemirror_mode": {
    "name": "ipython",
    "version": 3
   },
   "file_extension": ".py",
   "mimetype": "text/x-python",
   "name": "python",
   "nbconvert_exporter": "python",
   "pygments_lexer": "ipython3",
   "version": "3.11.7"
  }
 },
 "nbformat": 4,
 "nbformat_minor": 5
}
