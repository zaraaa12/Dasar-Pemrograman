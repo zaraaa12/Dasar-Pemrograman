{
 "cells": [
  {
   "cell_type": "markdown",
   "id": "4d841632-78f2-496d-9600-3d1f7663b30d",
   "metadata": {},
   "source": [
    "<h1>Soal Latihan</h1>"
   ]
  },
  {
   "cell_type": "markdown",
   "id": "33b22917-17ad-42a9-a8e3-536d857acc4e",
   "metadata": {},
   "source": [
    "<ol>\r\n",
    "    <li>Buatlah fungsi untuk menjumlahkan total nilai dari list</li>\r\n",
    "    <li>Buatlah fungsi untuk mencari nilai terbesar dari sekumpulan list </li>\r\n",
    "    <li>Buatlah fungsi untuk menjumlahkan 2 buah list </li>\r\n",
    "</ol>"
   ]
  },
  {
   "cell_type": "markdown",
   "id": "759c68a8-27cd-404b-b643-9f7e9bd32700",
   "metadata": {},
   "source": [
    "<h3>Jawaban</h3>"
   ]
  },
  {
   "cell_type": "code",
   "execution_count": 1,
   "id": "2a8dbc2b-92d6-46a4-95e9-4a97e666843b",
   "metadata": {},
   "outputs": [
    {
     "name": "stdout",
     "output_type": "stream",
     "text": [
      "Total value is =  30\n"
     ]
    }
   ],
   "source": [
    "#Soal 1\n",
    "def value(number):\n",
    "    total = sum(number)\n",
    "    return total\n",
    "\n",
    "list = [2,4,6,8,10]\n",
    "total_amount = value(list)\n",
    "print(f\"Total value is = \",total_amount)"
   ]
  },
  {
   "cell_type": "code",
   "execution_count": 2,
   "id": "f4918b79-1dff-4d8d-845d-119d4c9d2c5f",
   "metadata": {},
   "outputs": [
    {
     "name": "stdout",
     "output_type": "stream",
     "text": [
      "The biggest number is = 7\n"
     ]
    }
   ],
   "source": [
    "#Soal 2\n",
    "def max_value(number):\n",
    "    big = max(number)\n",
    "    return big\n",
    "numbers = [1,3,5,7]\n",
    "biggest = max_value(numbers)\n",
    "print(f\"The biggest number is =\",biggest)\n",
    "            "
   ]
  },
  {
   "cell_type": "code",
   "execution_count": 6,
   "id": "d3a1f57e-c7bd-4294-91cc-9df6bea9f933",
   "metadata": {},
   "outputs": [
    {
     "name": "stdout",
     "output_type": "stream",
     "text": [
      "Summation Result : [6, 6, 6, 6, 6]\n"
     ]
    }
   ],
   "source": [
    "#Soal 3\n",
    "list1 = [1,2,3,4,5]\n",
    "list2 = [5,4,3,2,1]\n",
    "\n",
    "def amount_list(list_1,list_2):\n",
    "    result = []\n",
    "    for a,b in zip(list_1,list_2):\n",
    "        result.append(a+b)\n",
    "    return result\n",
    "sum_result = amount_list(list1,list2)\n",
    "print(\"Summation Result :\",sum_result)"
   ]
  }
 ],
 "metadata": {
  "kernelspec": {
   "display_name": "Python 3 (ipykernel)",
   "language": "python",
   "name": "python3"
  },
  "language_info": {
   "codemirror_mode": {
    "name": "ipython",
    "version": 3
   },
   "file_extension": ".py",
   "mimetype": "text/x-python",
   "name": "python",
   "nbconvert_exporter": "python",
   "pygments_lexer": "ipython3",
   "version": "3.11.7"
  }
 },
 "nbformat": 4,
 "nbformat_minor": 5
}
