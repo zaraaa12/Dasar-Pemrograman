{
 "cells": [
  {
   "cell_type": "markdown",
   "id": "01008533-decc-4504-924a-8ade87ca52e4",
   "metadata": {},
   "source": [
    "<h1>Pengertian</h1>"
   ]
  },
  {
   "cell_type": "markdown",
   "id": "1b788589-86a1-44d5-a0d9-cafae7fc838d",
   "metadata": {},
   "source": [
    "<ol>\r\n",
    "    <li>Fungsi pada python adalah kumpulan perintah atau baris kode yang dikelompokkan menjadi satu kesatuan untuk kemudian bisa dipanggil atau digunakan berkali-kali.</li>\r\n",
    "    <li>Sebuah fungsi dapat menerima parameter, dapat mengembalikan suatu nilai, dan dapat dipanggil berkali-kali secara independen.</li>\r\n",
    "</ol>"
   ]
  },
  {
   "cell_type": "markdown",
   "id": "239ba516-32f8-49c4-a6a6-128b49480eed",
   "metadata": {},
   "source": [
    "<h1>Keuntungan</h1>"
   ]
  },
  {
   "cell_type": "markdown",
   "id": "1194c49e-1b51-4af8-b34c-1e75f15e7d9c",
   "metadata": {},
   "source": [
    "<ol>\r\n",
    "    <li>Membagi kode program menjadi bagian-bagian kecil dengan tugasnya masing-masing.</li>\r\n",
    "    <li>Membuat kode program menjadi lebih “reusable” dan lebih terstruktur.</li>\r\n",
    "</ol>"
   ]
  },
  {
   "cell_type": "markdown",
   "id": "088d18ec-3075-46ed-b9bd-96bb2d431c72",
   "metadata": {},
   "source": [
    "<h1>Sintaks</h1>"
   ]
  },
  {
   "cell_type": "markdown",
   "id": "055a66ce-a919-4dde-9161-46a14d9cb845",
   "metadata": {},
   "source": [
    "```python\r\n",
    "def function_name():\r\n",
    "    Logic Program\r\n",
    "```\r\n",
    "Cara memanggil fungsi dengan menuliskan function_name diikuti kurung buka tutup () beserta parameter jika ada\r\n",
    "\r\n",
    "```python\r\n",
    "    function_name()\r\n",
    "```"
   ]
  },
  {
   "cell_type": "markdown",
   "id": "55a6df0d-20b3-470d-a973-b75c8e03f7c3",
   "metadata": {},
   "source": [
    "Buatlah fungsi dengan nama \"helloPython\" yang berfungsi untuk mencetak \"Welcome in Python Language\" "
   ]
  },
  {
   "cell_type": "code",
   "execution_count": 5,
   "id": "2113dcdc-9873-4c6f-a439-27c84a3ffa3f",
   "metadata": {},
   "outputs": [
    {
     "name": "stdout",
     "output_type": "stream",
     "text": [
      "Welcome in python Language !\n"
     ]
    }
   ],
   "source": [
    "def hello_python():\n",
    "    print(\"Welcome in python Language !\")\n",
    "hello_python()\n"
   ]
  },
  {
   "cell_type": "markdown",
   "id": "23a7873a-1dba-4f45-9665-bb78d8aa29f7",
   "metadata": {},
   "source": [
    "<h1>Fungsi dengan Parameter</h1>"
   ]
  },
  {
   "cell_type": "markdown",
   "id": "df2b3d84-3650-4e50-8ffe-14be70b43390",
   "metadata": {},
   "source": [
    "Sebuah fungsi dapat menerima parameter ataupun argumen yang merupakan suatu nilai/variabel yang dilemparkan ke dalam fungsi untuk diproses lebih lanjut."
   ]
  },
  {
   "cell_type": "markdown",
   "id": "4171698b-4f3f-4468-9150-d595a2506fd3",
   "metadata": {},
   "source": [
    "<h3>Sintaks</h3>"
   ]
  },
  {
   "cell_type": "markdown",
   "id": "1f8e194c-d6de-4a71-a246-1bdf3c44e070",
   "metadata": {},
   "source": [
    "```python\r\n",
    "def function_name(param):\r\n",
    "    Logic Program\r\n",
    "```\r\n",
    "Cara memanggil fungsi dengan menuliskan function_name diikuti kurung buka tutup () beserta parameter\r\n",
    "\r\n",
    "```python\r\n",
    "    function_name(param)\r\n",
    "```"
   ]
  },
  {
   "cell_type": "markdown",
   "id": "ec2b2df9-a95b-4c45-916b-ac70cc0f665f",
   "metadata": {},
   "source": [
    "Buatlah fungsi dengan nama \"fullName\" yang mempunyai parameter \"firstname\" dan \"lastname\" digunakan untuk mencetak \"firstname\" dan \"lastname\""
   ]
  },
  {
   "cell_type": "code",
   "execution_count": 6,
   "id": "3de2b603-cb1c-4567-a608-45fafaf5b6ad",
   "metadata": {},
   "outputs": [
    {
     "name": "stdout",
     "output_type": "stream",
     "text": [
      "Your First Name : Zaraa\n",
      "Your Last Nmes : Cantik\n"
     ]
    }
   ],
   "source": [
    "def fullname(x,y):\n",
    "    print(f\"Your First Name : {x}\")\n",
    "    print(f\"Your Last Nmes : {y}\")\n",
    "fullname(\"Zaraa\",\"Cantik\")"
   ]
  },
  {
   "cell_type": "markdown",
   "id": "fa2b40fb-60f9-4a3b-9983-0daceaefc148",
   "metadata": {},
   "source": []
  },
  {
   "cell_type": "markdown",
   "id": "46c07af5-6ceb-4d17-962e-db032b9269d1",
   "metadata": {},
   "source": [
    "Parameter fungsi diperbolehkan menggunakan lebih dari 1, dimana paramater tersebut ada yang wajib harus diisi dan ada yang tidak harus diisi\n",
    "\n",
    "```python\n",
    "def function_name(param_1, param_2, param_3,....):\n",
    "    Logic Program\n",
    "```\n",
    "\n",
    "Cara memanggil fungsi dengan menuliskan function_name diikuti kurung buka tutup () beserta parameter\n",
    "\n",
    "```python\n",
    "    function_name(param_1, param_2, param_3)"
   ]
  },
  {
   "cell_type": "markdown",
   "id": "0dbc3b00-45c9-4aa6-a4f5-e97960409b53",
   "metadata": {},
   "source": [
    "Buatlah fungsi dengan nama maxValue yang mempunyai parameter \"val_1\",\"val_2\" dan \"val_3\" yang bertujuan untuk mencari nilai terbesar dari 3 nilai tersebut"
   ]
  },
  {
   "cell_type": "code",
   "execution_count": 11,
   "id": "9a50cb99-f9f0-4247-99d9-5524eb36b24f",
   "metadata": {},
   "outputs": [
    {
     "name": "stdout",
     "output_type": "stream",
     "text": [
      "5\n"
     ]
    }
   ],
   "source": [
    "def max_value(val_1,val_2,val_3):\n",
    "    print(max(val_1,val_2,val_3))\n",
    "max_value(1,3,5)"
   ]
  },
  {
   "cell_type": "markdown",
   "id": "e645980c-6f0c-4fa7-b0b7-74c1a4c9d89c",
   "metadata": {},
   "source": []
  },
  {
   "cell_type": "markdown",
   "id": "cec8fe7b-d8cc-4c41-9c92-e0c9b736cb43",
   "metadata": {},
   "source": [
    "Parameter opsional digunakan pada fungsi dengan cara memberikan nilai default, artinya nilai parameter sudah diberikan terlebih dahulu tanpa dipanggil\n",
    "```python\r\n",
    "def function_name(param_1, param_2, param_3 = 'Nilai'):\r\n",
    "    Logic Program\r\n",
    "```"
   ]
  },
  {
   "cell_type": "markdown",
   "id": "9b8be2bb-bf30-45cd-9cca-b1d3b3b72df8",
   "metadata": {},
   "source": [
    "Buatlah fungsi \"countCircleArea\" dengan 2 parameter yaitu \"phi\" dan \"diameter\" dimana parameter phi mempunyai nilai default 3.14"
   ]
  },
  {
   "cell_type": "code",
   "execution_count": 16,
   "id": "06abff5b-8226-489d-ba9e-3856d14dc41a",
   "metadata": {},
   "outputs": [
    {
     "name": "stdout",
     "output_type": "stream",
     "text": [
      "Circle Area : 153.86\n"
     ]
    }
   ],
   "source": [
    "def circle(diameter, phi = 3.14):\n",
    "    broad = phi*diameter*diameter\n",
    "    print(f\"Circle Area :\",broad)\n",
    "circle(7)"
   ]
  },
  {
   "cell_type": "code",
   "execution_count": null,
   "id": "fe2d5d05-8dd5-4b57-bd93-5eca0ea034b2",
   "metadata": {},
   "outputs": [],
   "source": []
  },
  {
   "cell_type": "markdown",
   "id": "f250f2f4-7ead-4dec-9684-2bd9bfdf6f52",
   "metadata": {},
   "source": [
    "Fungsi dengan 2 Parameter opsional juga dapat dilakukan pada Python. \n",
    "\n",
    "```python\n",
    "def info(suhu, daerah='Sukabumi', satuan = 'Celcius'):\n",
    "    print(f\"Suhu sekarang di {daerah} : {suhu} {satuan} \")\n",
    "```\n",
    "Adapun Cara memanggilnya\n",
    "\n",
    "```python\n",
    "    info(30)\n",
    "```"
   ]
  },
  {
   "cell_type": "code",
   "execution_count": 5,
   "id": "9709f227-1ecc-44e1-96d9-69981bd904aa",
   "metadata": {},
   "outputs": [
    {
     "name": "stdout",
     "output_type": "stream",
     "text": [
      "Current Temperature atNew York City : 70 Celcius .\n"
     ]
    }
   ],
   "source": [
    "#Cobalah fungsi tersebut pada area kode disini\n",
    "def info(temperature, area='New York City',unit='Celcius'):\n",
    "    print(f\"Current Temperature at{area} : {temperature} {unit} .\")\n",
    "\n",
    "info(70)"
   ]
  },
  {
   "cell_type": "markdown",
   "id": "2153e0b4-809a-48b6-905e-529df5039a10",
   "metadata": {},
   "source": [
    "<h1>Fungsi dengan Return Value</h1>"
   ]
  },
  {
   "cell_type": "markdown",
   "id": "676ebfc5-243e-4a5d-8cfb-f6f900da97b0",
   "metadata": {},
   "source": [
    "Yaitu fungsi dimana akhir dari programnya adalah nilai kembalian atau nilai balik. Artinya nilai dalam fungsi dapat ditampung lagi ke variabel lain untuk digunakan operasi lebih lanjut.\n",
    "\n",
    "Buatlah fungsi dengan return value yang digunakan untuk mengecek sebuah bilangan termasuk bilangan negatif, bilangan neteral(0) dan bilangan positif"
   ]
  },
  {
   "cell_type": "code",
   "execution_count": 8,
   "id": "1259e995-2e82-4ef9-9e62-483cbf66c47d",
   "metadata": {},
   "outputs": [
    {
     "name": "stdout",
     "output_type": "stream",
     "text": [
      "Negative\n",
      "Neutral\n",
      "Positive\n",
      "Negative\n"
     ]
    }
   ],
   "source": [
    "def check_number(number):\n",
    "    if number < 0:\n",
    "        return \"Negative\"\n",
    "    elif number == 0:\n",
    "        return \"Neutral\"\n",
    "    else:\n",
    "        return \"Positive\"\n",
    "\n",
    "print(check_number(-5))\n",
    "print(check_number(0))\n",
    "print(check_number(20))\n",
    "print(check_number(-50))\n"
   ]
  }
 ],
 "metadata": {
  "kernelspec": {
   "display_name": "Python 3 (ipykernel)",
   "language": "python",
   "name": "python3"
  },
  "language_info": {
   "codemirror_mode": {
    "name": "ipython",
    "version": 3
   },
   "file_extension": ".py",
   "mimetype": "text/x-python",
   "name": "python",
   "nbconvert_exporter": "python",
   "pygments_lexer": "ipython3",
   "version": "3.11.7"
  }
 },
 "nbformat": 4,
 "nbformat_minor": 5
}
