{
 "cells": [
  {
   "cell_type": "markdown",
   "id": "db2d629f-dfd8-4777-abcc-bb6de90ff768",
   "metadata": {},
   "source": [
    "<h1>1 Kondisi</h1>"
   ]
  },
  {
   "cell_type": "code",
   "execution_count": 10,
   "id": "e91769c4-4cb4-40c1-8131-3cedff998932",
   "metadata": {},
   "outputs": [
    {
     "name": "stdout",
     "output_type": "stream",
     "text": [
      "Dingin\n",
      "Hari ini cerah\n"
     ]
    }
   ],
   "source": [
    "cuaca = \"Hujan\"\n",
    "if cuaca == \"Hujan\":\n",
    "    print(\"Dingin\")\n",
    "print(\"Hari ini cerah\")\n",
    "    "
   ]
  },
  {
   "cell_type": "markdown",
   "id": "2ceb1bdc-cb87-4e12-bc92-0cf14267b02c",
   "metadata": {},
   "source": [
    "<h1>2 Kondisi</h1>"
   ]
  },
  {
   "cell_type": "code",
   "execution_count": 11,
   "id": "f617cd35-4f0c-4624-99ae-1529bf6c4b8f",
   "metadata": {},
   "outputs": [
    {
     "name": "stdout",
     "output_type": "stream",
     "text": [
      "9 adalah bilangan ganjil\n"
     ]
    }
   ],
   "source": [
    "nilai = 9\n",
    "sisa_bagi = nilai % 2\n",
    "if sisa_bagi ==0:\n",
    "    print(f\"{nilai} adalah bilangan genap\")\n",
    "else :\n",
    "    print(f\"{nilai} adalah bilangan ganjil\")"
   ]
  },
  {
   "cell_type": "markdown",
   "id": "37d3a783-beca-4748-9206-44267f159d82",
   "metadata": {},
   "source": [
    "<h1>Lebih dari 2 Kondisi</h1>"
   ]
  },
  {
   "cell_type": "code",
   "execution_count": 38,
   "id": "e8d7d087-27a3-4a95-91e2-f0a1ee7a650f",
   "metadata": {},
   "outputs": [
    {
     "name": "stdin",
     "output_type": "stream",
     "text": [
      "Insert Nilai :  -5\n"
     ]
    },
    {
     "name": "stdout",
     "output_type": "stream",
     "text": [
      "Input salah\n"
     ]
    }
   ],
   "source": [
    "nilai = int(input(\"Insert Nilai : \"))\n",
    "\n",
    "if nilai >= 0 and nilai <=100:\n",
    "    \n",
    "    if nilai <=49:\n",
    "        print(f\"{nilai} = E\")\n",
    "    elif nilai <=59:\n",
    "        print(f\"{nilai} = D\")\n",
    "    elif nilai <=69:\n",
    "        print(f\"{nilai} = C\")\n",
    "    elif nilai <=84:\n",
    "        print(f\"{nilai} = B\")\n",
    "    elif nilai <= 100:\n",
    "        print(f\"{nilai} = A\")\n",
    "else :\n",
    "    print(\"Input salah\")\n",
    "\n",
    "    \n",
    "\n",
    "\n",
    "              "
   ]
  },
  {
   "cell_type": "markdown",
   "id": "113f7921-8f72-402a-839d-215ba67c53a5",
   "metadata": {},
   "source": [
    "<h1>Username & Password</h1>"
   ]
  },
  {
   "cell_type": "code",
   "execution_count": 46,
   "id": "73114a5f-bdb7-4b8e-b655-75c946213177",
   "metadata": {},
   "outputs": [
    {
     "name": "stdin",
     "output_type": "stream",
     "text": [
      "Insert username Bilqis Zahra\n",
      "Insert Password admin\n"
     ]
    },
    {
     "name": "stdout",
     "output_type": "stream",
     "text": [
      "Selamat datang Bilqis Zahra\n"
     ]
    }
   ],
   "source": [
    "username = input('Insert username')\n",
    "password = input('Insert Password')\n",
    "\n",
    "if username == 'Bilqis Zahra':\n",
    "    if password == 'admin':\n",
    "        print(f'Welcome {username}')\n",
    "    else:\n",
    "        print('Password anda salah')\n",
    "else: \n",
    "    if password == 'admin':\n",
    "        print('Username anda salah')\n",
    "    else:\n",
    "        print('Username dan Password anda salah')"
   ]
  },
  {
   "cell_type": "markdown",
   "id": "3b856705-43ca-4a60-ba4b-3d3ccbb1470f",
   "metadata": {},
   "source": [
    "<h1>MAFIA</h1>"
   ]
  },
  {
   "cell_type": "code",
   "execution_count": 57,
   "id": "24d6f648-cf2a-4c1c-8c86-93d2132a10e5",
   "metadata": {},
   "outputs": [
    {
     "name": "stdin",
     "output_type": "stream",
     "text": [
      "Insert name :  zaraa\n",
      "Insert age :  26\n",
      "Insert adress :  Sukabumi\n",
      "Insert dollar :  10000000\n"
     ]
    },
    {
     "name": "stdout",
     "output_type": "stream",
     "text": [
      "zaraa tidak mencurigakan\n"
     ]
    }
   ],
   "source": [
    "name = input(\"Insert name : \")\n",
    "age = int(input(\"Insert age : \"))\n",
    "adress = input(\"Insert adress : \")\n",
    "dollar = int(input(\"Insert dollar : \"))\n",
    "\n",
    "pangkat = ''\n",
    "\n",
    "if age > 40:\n",
    "    if adress == \"Nevada\" or adress == \"New York\" or adress == \"Havana\":\n",
    "        if dollar > 10000000:\n",
    "            pangkat = 'Don'\n",
    "elif age >= 25 and age <=40:\n",
    "    if adress == \"New Jersey\" or adress == \"Manhattan\" or adress == \"Nevada\":\n",
    "        if dollar >= 1000000 and dollar <= 2000000:\n",
    "            pangkat = 'Underboss'\n",
    "elif age >= 18 and age <= 24:\n",
    "    if adress == \"California\" or adress == \"Detroit\" or adress == \"Boston\":\n",
    "        if dollar < 1000000:\n",
    "            pangkat = 'Capo'\n",
    "if pangkat !='':\n",
    "    print(f\"{name} kemungkinan adalah seorang anggota mafia dengan pangkat {pangkat}\")\n",
    "else:\n",
    "    print(f\"{name} tidak mencurigakan\")\n",
    "\n",
    "\n"
   ]
  }
 ],
 "metadata": {
  "kernelspec": {
   "display_name": "Python 3 (ipykernel)",
   "language": "python",
   "name": "python3"
  },
  "language_info": {
   "codemirror_mode": {
    "name": "ipython",
    "version": 3
   },
   "file_extension": ".py",
   "mimetype": "text/x-python",
   "name": "python",
   "nbconvert_exporter": "python",
   "pygments_lexer": "ipython3",
   "version": "3.11.7"
  }
 },
 "nbformat": 4,
 "nbformat_minor": 5
}
